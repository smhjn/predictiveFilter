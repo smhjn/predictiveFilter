{
 "metadata": {
  "kernelspec": {
   "codemirror_mode": {
    "name": "ipython",
    "version": 2
   },
   "display_name": "IPython (Python 2)",
   "language": "python",
   "name": "python2"
  },
  "name": "",
  "signature": "sha256:9c328a3684cfd8a91927dfc50bf4b2b5622dd35c7eb6fd5ab86d86dfb313b3f3"
 },
 "nbformat": 3,
 "nbformat_minor": 0,
 "worksheets": [
  {
   "cells": [
    {
     "cell_type": "heading",
     "level": 1,
     "metadata": {},
     "source": [
      "Illustration/Demonstration of the predictiveFilter library"
     ]
    },
    {
     "cell_type": "code",
     "collapsed": false,
     "input": [
      "!make"
     ],
     "language": "python",
     "metadata": {},
     "outputs": [
      {
       "output_type": "stream",
       "stream": "stdout",
       "text": [
        "# make -C ./cdhlib\r\n"
       ]
      }
     ],
     "prompt_number": 1
    },
    {
     "cell_type": "code",
     "collapsed": false,
     "input": [
      "from PyDyGraphs import pydygraphs\n",
      "import PyPredictiveFilter as pypfilt\n",
      "import numpy as np\n",
      "import scipy as sp\n",
      "import pandas as pd\n",
      "import pylab as plt\n",
      "%matplotlib inline"
     ],
     "language": "python",
     "metadata": {},
     "outputs": [],
     "prompt_number": 15
    },
    {
     "cell_type": "heading",
     "level": 3,
     "metadata": {},
     "source": [
      "## Maybe look up how to do this with a step response? \n",
      "##  http://python-control.sourceforge.net/manual/timeresp.html"
     ]
    },
    {
     "cell_type": "code",
     "collapsed": false,
     "input": [
      "freq_analog = 0.5    #Hz\n",
      "n_analog = 10000 \n",
      "points_per_second = n_analog / freq_analog\n",
      "t_analog = np.arange(0,1/freq_analog,1.0/n_analog)\n",
      "noise = (np.random.rand(len(t_analog))-0.5)*0.0\n",
      "s_analog = np.sin(t_analog*2*np.pi*freq_analog) + noise\n",
      "fig = pydygraphs.figure(width = 800, height = 200)\n",
      "data=pd.DataFrame()\n",
      "data[\"Time\"] = t_analog;data[\"Signal\"] = s_analog\n",
      "fig.plotDataFrame(data,\"Time\")\n",
      "fig.title(\"Input Signal\");fig.xlabel('Time [s]');fig.ylabel('Amplitude')\n",
      "fig.show()"
     ],
     "language": "python",
     "metadata": {},
     "outputs": [
      {
       "html": [
        "\n",
        "    <script src=\"http://dygraphs.com/dygraph-combined.js\"></script>\n",
        "    <table style=\"width: 800px; border-style: hidden;\">\n",
        "    <tr><td style=\"border-style: hidden;\"><div id='Figure65' style=\"width: 800px; height: 200px;\"></div></td></tr>\n",
        "    <tr><td style=\"border-style: hidden;\"><div style=\"text-align:right; width: 800px; height: auto;\"; id='Figure65_legend'></div></td></tr>\n",
        "    </table>\n",
        "    "
       ],
       "metadata": {},
       "output_type": "display_data",
       "text": [
        "<IPython.core.display.HTML object>"
       ]
      },
      {
       "html": [
        "\n",
        "\t    <script type=\"text/javascript\">\n",
        "\t    function convertToDataTable_Figure65(d) {\n",
        "\t      var columns = _.keys(d);\n",
        "\t      var x_col = 'Time';\n",
        "\t      columns.splice(columns.indexOf(x_col), 1);  // Get index column. (prob index). Don't need to do this just to plot all\n",
        "\t      var out = [];\n",
        "\t      var i = 0;\n",
        "\t      for (var k in d[x_col]) {\n",
        "\t        var row = [d[x_col][k]];\n",
        "\t        columns.forEach(function(col) {\n",
        "\t          row.push(d[col][k]);\n",
        "\t        });\n",
        "\t        out.push(row);\n",
        "\t      }\n",
        "\t      return {data:out, labels:[x_col].concat(columns)};\n",
        "\t    }\n",
        "\n",
        "\t    function handle_output_Figure65(out) {\n",
        "\t      var json = out.content.data['text/plain'];\n",
        "\t      var data = JSON.parse(eval(json));\n",
        "\t      var tabular = convertToDataTable_Figure65(data);\n",
        "\t      \n",
        "            g = new Dygraph(document.getElementById('Figure65'), tabular.data, {\n",
        "                legend: 'always',\n",
        "                labels: tabular.labels,\n",
        "                labelsDivStyles: { 'textAlign': 'right' },\n",
        "                rollPeriod: 1,\n",
        "                showRoller: true,\n",
        "                animatedZooms: true,\n",
        "\t        \n",
        "                showRoller: true,\n",
        "            \n",
        "                title: 'Input Signal',\n",
        "                xlabel: 'Time [s]',\n",
        "            \n",
        "                ylabel: 'Amplitude',\n",
        "            \n",
        "               labelsDiv: 'Figure65_legend',\n",
        "\t           errorBars: false\n",
        "\t      })\n",
        "\t    }\n",
        "\t    var kernel = IPython.notebook.kernel;\n",
        "\t    var callbacks_Figure65 = { 'iopub' : {'output' : handle_output_Figure65}};\n",
        "\t    kernel.execute(\"pydygraphs.__PYDYGRAPH__FIGURE__JSON__[65]\", callbacks_Figure65, {silent:false});\n",
        "\t    </script>\n",
        "\t    "
       ],
       "metadata": {},
       "output_type": "display_data",
       "text": [
        "<IPython.core.display.HTML object>"
       ]
      }
     ],
     "prompt_number": 361
    },
    {
     "cell_type": "heading",
     "level": 2,
     "metadata": {},
     "source": [
      "Simulate Control System, 20Hz Sampling"
     ]
    },
    {
     "cell_type": "code",
     "collapsed": false,
     "input": [
      "# _DEBUG = True\n",
      "# def getPrediction(index,time,dataset,numPointsToFilter,pf,cutoffFreq,polyorder,overridePointsToFit=0):\n",
      "#     # currIdx = offset + numPointsToFilter\n",
      "#     ## Add data to filter\n",
      "#     if index < numPointsToFilter:\n",
      "#         print \"Can't get prediction with dataset at index: \", index, ' with numPointsToFilter: ', numPointsToFilter\n",
      "#         return 0 # return None\n",
      "#     if _DEBUG:\n",
      "#         print \"Adding dataset[\",str(index-numPointsToFilter),\":\",str(index),\"]\"\n",
      "#     ret = pf.addData(time[index-numPointsToFilter:index], dataset[index-numPointsToFilter:index])\n",
      "#     if ret:\n",
      "#         print \"*** addData() failed! returned\", ret\n",
      "    \n",
      "#     ## Apply filter\n",
      "#     ret = pf.filter(cutoffFreq, polyorder,numPointsToFit=overridePointsToFit)\n",
      "#     if ret:\n",
      "#         print \"*** filter() failed! returned\", ret\n",
      "\n",
      "#     ## Get next predicted point at next deltaT timestep\n",
      "#     p = pf.getPrediction(time[index+1])\n",
      "    \n",
      "#     ## Dumb check\n",
      "#     if abs(p) > 10:\n",
      "#         return 0\n",
      "\n",
      "#     # predictedPoints[currIdx+1] = p\n",
      "#     return p"
     ],
     "language": "python",
     "metadata": {},
     "outputs": [],
     "prompt_number": 272
    },
    {
     "cell_type": "heading",
     "level": 2,
     "metadata": {},
     "source": [
      "This is super cluge-balls. Not Robust, smart, and should be deleted. But it paints the picture (literally) of how the predictive filter works.\n",
      "Specifically: \n",
      "    *This is all stupidly based on array indexes for sampling rates. \n",
      "    *PredictiveFilter settings far from ideal. Adapted for this demo\n",
      "    *I'm not even sure if the \"rates\" are correct. \n",
      "\n",
      "So take this with a brick of salt. Its just supposed to paint the picture\n"
     ]
    },
    {
     "cell_type": "code",
     "collapsed": false,
     "input": [
      "Fs = 20 # 20Hz\n",
      "## Sample every NTH time...\n",
      "NTH = n_analog/Fs\n",
      "samples_per_second = Fs/n_analog\n",
      "samples = []\n",
      "t_sample = []\n",
      "ideal_error = []\n",
      "\n",
      "Fa = 50\n",
      "NTHa = n_analog/Fa\n",
      "actuations_per_second = Fa/n_analog\n",
      "\n",
      "\n",
      "###### Create and configure the PredictiveFilter\n",
      "pf=pypfilt.PyPredictiveFilter()\n",
      "numPointsToFilter=16\n",
      "cutoffFreq=5\n",
      "polyorder=2\n",
      "numPointsToFit = 10\n",
      "pf.configure(numPointsToFilter=numPointsToFilter)\n",
      "\n",
      "## Allocate\n",
      "predictedPoints = np.zeros(n_analog*2+1)\n",
      "pf_error = np.zeros(n_analog*2+1)\n",
      "\n",
      "\n",
      "for idx,sample in enumerate(s_analog):\n",
      "    \n",
      "    ## Sample at 20 Hz\n",
      "    if (idx % NTH) == 0:  \n",
      "        samples.append(sample)\n",
      "        t_sample.append(t_analog[idx])\n",
      "        \n",
      "        ###### Add each sample to the predictive filter:\n",
      "        ##       Note, Predictive Filter does not take floating point X axis values. Needs longs for now. \n",
      "        ##       So must feed in Indexes, not actual time values. Its still the same. \n",
      "        pf.addData(np.array([idx],dtype='uint64'), np.array([sample],dtype=\"double\")) \n",
      "        ## Filter the data we have. Generates polynomial too. \n",
      "        pf.filter(cutoffFreq, polyorder,numPointsToFit=numPointsToFit)\n",
      "    \n",
      "    ###### Error from Idealized Sense-React system\n",
      "    ideal_error.append(sample-samples[-1])\n",
      "    \n",
      "    ## Get a new prediction at 1KHz (every 5 \"analog points\". ) I know this is stupid\n",
      "    if (idx % 5) == 0:#len(samples) % NTHa) == 0:\n",
      "        array_samples = np.array(samples)\n",
      "        if len(samples) >= numPointsToFilter:\n",
      "#             print \"getting prediction. index: \",intTime[idx],\"len[array_samples] : \",len(array_samples)\n",
      "            predictedPoints[idx] = pf.getPrediction(idx)\n",
      "        else:\n",
      "#             print \"Not enough samples to start predictive filtering: \",len(samples),\" : \",numPointsToFilter\n",
      "            predictedPoints[idx] = samples[-1]\n",
      "    else:\n",
      "        predictedPoints[idx] = predictedPoints[idx-1]\n",
      "    if (idx+1) < len(s_analog):\n",
      "        pf_error[idx] = s_analog[idx]-predictedPoints[idx]\n",
      "#         print predictedPoints[idx+1]\n",
      "\n",
      "    \n",
      "    \n",
      "    \n",
      "plt.figure();plt.hold();plt.plot(t_sample,samples,'k*');plt.plot(t_analog,ideal_error,'r');plt.plot(t_analog,s_analog)\n",
      "plt.plot(t_analog,predictedPoints[0:-1],'g.')\n",
      "plt.grid();plt.show();plt.close()\n",
      "## Gotta run twice to get the plot to work. Stupid Matplotlib\n",
      "plt.figure();plt.hold();plt.plot(t_sample,samples,'k*');plt.plot(t_analog,ideal_error,'r');plt.plot(t_analog,s_analog)\n",
      "plt.plot(t_analog,predictedPoints[0:-1],'g.')\n",
      "plt.grid();plt.show();plt.close()\n",
      "\n",
      "\n",
      "    "
     ],
     "language": "python",
     "metadata": {},
     "outputs": [
      {
       "metadata": {},
       "output_type": "display_data",
       "png": "[encoded data removed]",
       "text": [
        "<matplotlib.figure.Figure at 0x120ebd850>"
       ]
      },
      {
       "metadata": {},
       "output_type": "display_data",
       "png": "[encoded data removed]",
       "text": [
        "<matplotlib.figure.Figure at 0x11cdd3190>"
       ]
      }
     ],
     "prompt_number": 375
    },
    {
     "cell_type": "code",
     "collapsed": false,
     "input": [
      "fig2=pydygraphs.figure(width=800,height=300)\n",
      "fig2.plot(t_analog,[ideal_error,s_analog,pf_error[0:-1]],color=[\"red\",\"green\",\"blue\"],ylabels=[\"Ideal Error\",\"Signal\",\"Predictive Filter Error\"])\n",
      "fig2.xlabel('Time [s]')\n",
      "fig2.ylabel('Error')\n",
      "fig2.title(\"Error Signal Comparison\")\n",
      "fig2.show()"
     ],
     "language": "python",
     "metadata": {},
     "outputs": [
      {
       "html": [
        "\n",
        "    <script src=\"http://dygraphs.com/dygraph-combined.js\"></script>\n",
        "    <table style=\"width: 800px; border-style: hidden;\">\n",
        "    <tr><td style=\"border-style: hidden;\"><div id='Figure73' style=\"width: 800px; height: 300px;\"></div></td></tr>\n",
        "    <tr><td style=\"border-style: hidden;\"><div style=\"text-align:right; width: 800px; height: auto;\"; id='Figure73_legend'></div></td></tr>\n",
        "    </table>\n",
        "    "
       ],
       "metadata": {},
       "output_type": "display_data",
       "text": [
        "<IPython.core.display.HTML object>"
       ]
      },
      {
       "html": [
        "\n",
        "\t    <script type=\"text/javascript\">\n",
        "\t    function convertToDataTable_Figure73(d) {\n",
        "\t      var columns = _.keys(d);\n",
        "\t      var x_col = '_x_axis_label_';\n",
        "\t      columns.splice(columns.indexOf(x_col), 1);  // Get index column. (prob index). Don't need to do this just to plot all\n",
        "\t      var out = [];\n",
        "\t      var i = 0;\n",
        "\t      for (var k in d[x_col]) {\n",
        "\t        var row = [d[x_col][k]];\n",
        "\t        columns.forEach(function(col) {\n",
        "\t          row.push(d[col][k]);\n",
        "\t        });\n",
        "\t        out.push(row);\n",
        "\t      }\n",
        "\t      return {data:out, labels:[x_col].concat(columns)};\n",
        "\t    }\n",
        "\n",
        "\t    function handle_output_Figure73(out) {\n",
        "\t      var json = out.content.data['text/plain'];\n",
        "\t      var data = JSON.parse(eval(json));\n",
        "\t      var tabular = convertToDataTable_Figure73(data);\n",
        "\t      \n",
        "            g = new Dygraph(document.getElementById('Figure73'), tabular.data, {\n",
        "                legend: 'always',\n",
        "                labels: tabular.labels,\n",
        "                labelsDivStyles: { 'textAlign': 'right' },\n",
        "                rollPeriod: 1,\n",
        "                showRoller: true,\n",
        "                animatedZooms: true,\n",
        "\t        \n",
        "                showRoller: true,\n",
        "            \n",
        "                colors: [\"red\",\"green\",\"blue\"],\n",
        "            \n",
        "                title: 'Error Signal Comparison',\n",
        "                xlabel: 'Time [s]',\n",
        "            \n",
        "                ylabel: 'Error',\n",
        "            \n",
        "               labelsDiv: 'Figure73_legend',\n",
        "\t           errorBars: false\n",
        "\t      })\n",
        "\t    }\n",
        "\t    var kernel = IPython.notebook.kernel;\n",
        "\t    var callbacks_Figure73 = { 'iopub' : {'output' : handle_output_Figure73}};\n",
        "\t    kernel.execute(\"pydygraphs.__PYDYGRAPH__FIGURE__JSON__[73]\", callbacks_Figure73, {silent:false});\n",
        "\t    </script>\n",
        "\t    "
       ],
       "metadata": {},
       "output_type": "display_data",
       "text": [
        "<IPython.core.display.HTML object>"
       ]
      }
     ],
     "prompt_number": 376
    },
    {
     "cell_type": "code",
     "collapsed": false,
     "input": [
      "fig2=pydygraphs.figure(width=800,height=300)\n",
      "fig2.plot(t_analog,[s_analog,predictedPoints[0:-1]],color=[\"green\",\"blue\"],ylabels=[\"Truth\",\"Predicted Points\"])\n",
      "fig2.xlabel('Time [s]')\n",
      "fig2.ylabel('Error')\n",
      "fig2.title(\"Predicted Signal vs True Signal\")\n",
      "fig2.show()"
     ],
     "language": "python",
     "metadata": {},
     "outputs": [
      {
       "html": [
        "\n",
        "    <script src=\"http://dygraphs.com/dygraph-combined.js\"></script>\n",
        "    <table style=\"width: 800px; border-style: hidden;\">\n",
        "    <tr><td style=\"border-style: hidden;\"><div id='Figure70' style=\"width: 800px; height: 300px;\"></div></td></tr>\n",
        "    <tr><td style=\"border-style: hidden;\"><div style=\"text-align:right; width: 800px; height: auto;\"; id='Figure70_legend'></div></td></tr>\n",
        "    </table>\n",
        "    "
       ],
       "metadata": {},
       "output_type": "display_data",
       "text": [
        "<IPython.core.display.HTML object>"
       ]
      },
      {
       "html": [
        "\n",
        "\t    <script type=\"text/javascript\">\n",
        "\t    function convertToDataTable_Figure70(d) {\n",
        "\t      var columns = _.keys(d);\n",
        "\t      var x_col = '_x_axis_label_';\n",
        "\t      columns.splice(columns.indexOf(x_col), 1);  // Get index column. (prob index). Don't need to do this just to plot all\n",
        "\t      var out = [];\n",
        "\t      var i = 0;\n",
        "\t      for (var k in d[x_col]) {\n",
        "\t        var row = [d[x_col][k]];\n",
        "\t        columns.forEach(function(col) {\n",
        "\t          row.push(d[col][k]);\n",
        "\t        });\n",
        "\t        out.push(row);\n",
        "\t      }\n",
        "\t      return {data:out, labels:[x_col].concat(columns)};\n",
        "\t    }\n",
        "\n",
        "\t    function handle_output_Figure70(out) {\n",
        "\t      var json = out.content.data['text/plain'];\n",
        "\t      var data = JSON.parse(eval(json));\n",
        "\t      var tabular = convertToDataTable_Figure70(data);\n",
        "\t      \n",
        "            g = new Dygraph(document.getElementById('Figure70'), tabular.data, {\n",
        "                legend: 'always',\n",
        "                labels: tabular.labels,\n",
        "                labelsDivStyles: { 'textAlign': 'right' },\n",
        "                rollPeriod: 1,\n",
        "                showRoller: true,\n",
        "                animatedZooms: true,\n",
        "\t        \n",
        "                showRoller: true,\n",
        "            \n",
        "                colors: [\"green\",\"blue\"],\n",
        "            \n",
        "                title: 'Predicted Signal vs True Signal',\n",
        "                xlabel: 'Time [s]',\n",
        "            \n",
        "                ylabel: 'Error',\n",
        "            \n",
        "               labelsDiv: 'Figure70_legend',\n",
        "\t           errorBars: false\n",
        "\t      })\n",
        "\t    }\n",
        "\t    var kernel = IPython.notebook.kernel;\n",
        "\t    var callbacks_Figure70 = { 'iopub' : {'output' : handle_output_Figure70}};\n",
        "\t    kernel.execute(\"pydygraphs.__PYDYGRAPH__FIGURE__JSON__[70]\", callbacks_Figure70, {silent:false});\n",
        "\t    </script>\n",
        "\t    "
       ],
       "metadata": {},
       "output_type": "display_data",
       "text": [
        "<IPython.core.display.HTML object>"
       ]
      }
     ],
     "prompt_number": 369
    },
    {
     "cell_type": "code",
     "collapsed": false,
     "input": [
      "pf.getPrediction(3)"
     ],
     "language": "python",
     "metadata": {},
     "outputs": [
      {
       "metadata": {},
       "output_type": "pyout",
       "prompt_number": 316,
       "text": [
        "-0.11744678038404356"
       ]
      }
     ],
     "prompt_number": 316
    },
    {
     "cell_type": "code",
     "collapsed": false,
     "input": [],
     "language": "python",
     "metadata": {},
     "outputs": [
      {
       "metadata": {},
       "output_type": "pyout",
       "prompt_number": 148,
       "text": [
        "long"
       ]
      }
     ],
     "prompt_number": 148
    },
    {
     "cell_type": "code",
     "collapsed": false,
     "input": [
      "# Forma figure\n",
      "fig2 = pydygraphs.figure(width = 600, height = 400)\n",
      "\n",
      "# Generate data for the plot\n",
      "x = np.array(range(20000))\n",
      "y = [np.sin(np.random.rand(20000)),-np.sin(np.random.rand(20000))]\n",
      "\n",
      "# Plot the data on the figure\n",
      "fig2.plot(t_analog,[s_analog], color=['navy','magenta'])\n",
      "fig2.title(\"Figure 1\")\n",
      "fig2.xlabel('Series')\n",
      "fig2.ylabel('Value')\n",
      "\n",
      "# Show the figure in this cell of the notebook\n",
      "fig2.show()"
     ],
     "language": "python",
     "metadata": {},
     "outputs": [
      {
       "html": [
        "\n",
        "    <script src=\"http://dygraphs.com/dygraph-combined.js\"></script>\n",
        "    <table style=\"width: 600px; border-style: hidden;\">\n",
        "    <tr><td style=\"border-style: hidden;\"><div id='Figure1' style=\"width: 600px; height: 400px;\"></div></td></tr>\n",
        "    <tr><td style=\"border-style: hidden;\"><div style=\"text-align:right; width: 600px; height: auto;\"; id='Figure1_legend'></div></td></tr>\n",
        "    </table>\n",
        "    "
       ],
       "metadata": {},
       "output_type": "display_data",
       "text": [
        "<IPython.core.display.HTML object>"
       ]
      },
      {
       "html": [
        "\n",
        "\t    <script type=\"text/javascript\">\n",
        "\t    function convertToDataTable_Figure1(d) {\n",
        "\t      var columns = _.keys(d);\n",
        "\t      var x_col = '_x_axis_label_';\n",
        "\t      columns.splice(columns.indexOf(x_col), 1);  // Get index column. (prob index). Don't need to do this just to plot all\n",
        "\t      var out = [];\n",
        "\t      var i = 0;\n",
        "\t      for (var k in d[x_col]) {\n",
        "\t        var row = [d[x_col][k]];\n",
        "\t        columns.forEach(function(col) {\n",
        "\t          row.push(d[col][k]);\n",
        "\t        });\n",
        "\t        out.push(row);\n",
        "\t      }\n",
        "\t      return {data:out, labels:[x_col].concat(columns)};\n",
        "\t    }\n",
        "\n",
        "\t    function handle_output_Figure1(out) {\n",
        "\t      var json = out.content.data['text/plain'];\n",
        "\t      var data = JSON.parse(eval(json));\n",
        "\t      var tabular = convertToDataTable_Figure1(data);\n",
        "\t      \n",
        "            g = new Dygraph(document.getElementById('Figure1'), tabular.data, {\n",
        "                legend: 'always',\n",
        "                labels: tabular.labels,\n",
        "                labelsDivStyles: { 'textAlign': 'right' },\n",
        "                rollPeriod: 1,\n",
        "                showRoller: true,\n",
        "                animatedZooms: true,\n",
        "\t        \n",
        "                showRoller: true,\n",
        "            \n",
        "                colors: [\"navy\",\"magenta\"],\n",
        "            \n",
        "                title: 'Figure 1',\n",
        "                xlabel: 'Series',\n",
        "            \n",
        "                ylabel: 'Value',\n",
        "            \n",
        "               labelsDiv: 'Figure1_legend',\n",
        "\t           errorBars: false\n",
        "\t      })\n",
        "\t    }\n",
        "\t    var kernel = IPython.notebook.kernel;\n",
        "\t    var callbacks_Figure1 = { 'iopub' : {'output' : handle_output_Figure1}};\n",
        "\t    kernel.execute(\"pydygraphs.__PYDYGRAPH__FIGURE__JSON__[1]\", callbacks_Figure1, {silent:false});\n",
        "\t    </script>\n",
        "\t    "
       ],
       "metadata": {},
       "output_type": "display_data",
       "text": [
        "<IPython.core.display.HTML object>"
       ]
      }
     ],
     "prompt_number": 3
    },
    {
     "cell_type": "code",
     "collapsed": false,
     "input": [
      "len(x)"
     ],
     "language": "python",
     "metadata": {},
     "outputs": [
      {
       "metadata": {},
       "output_type": "pyout",
       "prompt_number": 9,
       "text": [
        "10000"
       ]
      }
     ],
     "prompt_number": 9
    },
    {
     "cell_type": "code",
     "collapsed": false,
     "input": [
      "type(np.ndarray(t_analog[1]))"
     ],
     "language": "python",
     "metadata": {},
     "outputs": [
      {
       "metadata": {},
       "output_type": "pyout",
       "prompt_number": 141,
       "text": [
        "numpy.ndarray"
       ]
      }
     ],
     "prompt_number": 141
    },
    {
     "cell_type": "code",
     "collapsed": false,
     "input": [
      "\n"
     ],
     "language": "python",
     "metadata": {},
     "outputs": [
      {
       "html": [
        "\n",
        "    <script src=\"http://dygraphs.com/dygraph-combined.js\"></script>\n",
        "    <table style=\"width: 1050px; border-style: hidden;\">\n",
        "    <tr><td style=\"border-style: hidden;\"><div id='Figure1' style=\"width: 1050px; height: 400px;\"></div></td></tr>\n",
        "    <tr><td style=\"border-style: hidden;\"><div style=\"text-align:right; width: 1050px; height: auto;\"; id='Figure1_legend'></div></td></tr>\n",
        "    </table>\n",
        "    "
       ],
       "metadata": {},
       "output_type": "display_data",
       "text": [
        "<IPython.core.display.HTML object>"
       ]
      },
      {
       "html": [
        "\n",
        "\t    <script type=\"text/javascript\">\n",
        "\t    function convertToDataTable_Figure1(d) {\n",
        "\t      var columns = _.keys(d);\n",
        "\t      var x_col = 'Time';\n",
        "\t      columns.splice(columns.indexOf(x_col), 1);  // Get index column. (prob index). Don't need to do this just to plot all\n",
        "\t      var out = [];\n",
        "\t      var i = 0;\n",
        "\t      for (var k in d[x_col]) {\n",
        "\t        var row = [d[x_col][k]];\n",
        "\t        columns.forEach(function(col) {\n",
        "\t          row.push(d[col][k]);\n",
        "\t        });\n",
        "\t        out.push(row);\n",
        "\t      }\n",
        "\t      return {data:out, labels:[x_col].concat(columns)};\n",
        "\t    }\n",
        "\n",
        "\t    function handle_output_Figure1(out) {\n",
        "\t      var json = out.content.data['text/plain'];\n",
        "\t      var data = JSON.parse(eval(json));\n",
        "\t      var tabular = convertToDataTable_Figure1(data);\n",
        "\t      \n",
        "            g = new Dygraph(document.getElementById('Figure1'), tabular.data, {\n",
        "                legend: 'always',\n",
        "                labels: tabular.labels,\n",
        "                labelsDivStyles: { 'textAlign': 'right' },\n",
        "                rollPeriod: 1,\n",
        "                showRoller: true,\n",
        "                animatedZooms: true,\n",
        "\t        \n",
        "                showRoller: true,\n",
        "            \n",
        "               labelsDiv: 'Figure1_legend',\n",
        "\t           errorBars: false\n",
        "\t      })\n",
        "\t    }\n",
        "\t    var kernel = IPython.notebook.kernel;\n",
        "\t    var callbacks_Figure1 = { 'iopub' : {'output' : handle_output_Figure1}};\n",
        "\t    kernel.execute(\"pydygraphs.__PYDYGRAPH__FIGURE__JSON__[1]\", callbacks_Figure1, {silent:false});\n",
        "\t    </script>\n",
        "\t    "
       ],
       "metadata": {},
       "output_type": "display_data",
       "text": [
        "<IPython.core.display.HTML object>"
       ]
      }
     ],
     "prompt_number": 7
    },
    {
     "cell_type": "code",
     "collapsed": false,
     "input": [],
     "language": "python",
     "metadata": {},
     "outputs": []
    }
   ],
   "metadata": {}
  }
 ]
}