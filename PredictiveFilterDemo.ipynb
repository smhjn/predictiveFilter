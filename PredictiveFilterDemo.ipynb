{
 "metadata": {
  "kernelspec": {
   "codemirror_mode": {
    "name": "ipython",
    "version": 2
   },
   "display_name": "IPython (Python 2)",
   "language": "python",
   "name": "python2"
  },
  "name": "",
  "signature": "sha256:bd57d4631acecb88416cadadfedf13dca37cb43bcdaa742e8d4251e3f155fde8"
 },
 "nbformat": 3,
 "nbformat_minor": 0,
 "worksheets": [
  {
   "cells": [
    {
     "cell_type": "heading",
     "level": 1,
     "metadata": {},
     "source": [
      "Illustration/Demonstration of the predictiveFilter library"
     ]
    },
    {
     "cell_type": "code",
     "collapsed": false,
     "input": [
      "!make"
     ],
     "language": "python",
     "metadata": {},
     "outputs": []
    },
    {
     "cell_type": "code",
     "collapsed": false,
     "input": [
      "from PyDyGraphs import pydygraphs\n",
      "import PyPredictiveFilter as pypfilt\n",
      "import numpy as np\n",
      "import scipy as sp\n",
      "import pandas as pd\n",
      "import pylab as plt\n",
      "%matplotlib inline"
     ],
     "language": "python",
     "metadata": {},
     "outputs": []
    },
    {
     "cell_type": "heading",
     "level": 3,
     "metadata": {},
     "source": [
      "## Maybe look up how to do this with a step response? \n",
      "##  http://python-control.sourceforge.net/manual/timeresp.html"
     ]
    },
    {
     "cell_type": "code",
     "collapsed": false,
     "input": [
      "freq_analog = 0.5    #Hz\n",
      "numPeriods  = 2\n",
      "amp = 5 #arcesconds\n",
      "n_analog = 10000 \n",
      "points_per_second = n_analog / freq_analog\n",
      "t_analog = np.arange(-numPeriods/2/freq_analog,numPeriods/2/freq_analog,1.0/n_analog)\n",
      "noise = (np.random.rand(len(t_analog))-0.5)*0.5\n",
      "s_analog = amp * np.sin(t_analog*2*np.pi*freq_analog) #+ noise #+ 1.5*np.sin(t_analog*2*np.pi*freq_analog*10)+ noise\n",
      "fig = pydygraphs.figure(width = 800, height = 200)\n",
      "data=pd.DataFrame()\n",
      "data[\"Time\"] = t_analog;data[\"Signal\"] = s_analog\n",
      "fig.plotDataFrame(data,\"Time\")\n",
      "fig.title(\"Input Signal\");fig.xlabel('Time [s]');fig.ylabel('Motion [arcseconds]')\n",
      "fig.show()"
     ],
     "language": "python",
     "metadata": {},
     "outputs": []
    },
    {
     "cell_type": "heading",
     "level": 2,
     "metadata": {},
     "source": [
      "Simulate Control System, 20Hz Sampling"
     ]
    },
    {
     "cell_type": "code",
     "collapsed": false,
     "input": [
      "# _DEBUG = True\n",
      "# def getPrediction(index,time,dataset,numPointsToFilter,pf,cutoffFreq,polyorder,overridePointsToFit=0):\n",
      "#     # currIdx = offset + numPointsToFilter\n",
      "#     ## Add data to filter\n",
      "#     if index < numPointsToFilter:\n",
      "#         print \"Can't get prediction with dataset at index: \", index, ' with numPointsToFilter: ', numPointsToFilter\n",
      "#         return 0 # return None\n",
      "#     if _DEBUG:\n",
      "#         print \"Adding dataset[\",str(index-numPointsToFilter),\":\",str(index),\"]\"\n",
      "#     ret = pf.addData(time[index-numPointsToFilter:index], dataset[index-numPointsToFilter:index])\n",
      "#     if ret:\n",
      "#         print \"*** addData() failed! returned\", ret\n",
      "    \n",
      "#     ## Apply filter\n",
      "#     ret = pf.filter(cutoffFreq, polyorder,numPointsToFit=overridePointsToFit)\n",
      "#     if ret:\n",
      "#         print \"*** filter() failed! returned\", ret\n",
      "\n",
      "#     ## Get next predicted point at next deltaT timestep\n",
      "#     p = pf.getPrediction(time[index+1])\n",
      "    \n",
      "#     ## Dumb check\n",
      "#     if abs(p) > 10:\n",
      "#         return 0\n",
      "\n",
      "#     # predictedPoints[currIdx+1] = p\n",
      "#     return p"
     ],
     "language": "python",
     "metadata": {},
     "outputs": []
    },
    {
     "cell_type": "heading",
     "level": 2,
     "metadata": {},
     "source": [
      "This is super cluge-balls. Not Robust, smart, and should be deleted. But it paints the picture (literally) of how the predictive filter works.\n",
      "Specifically: \n",
      "    *This is all stupidly based on array indexes for sampling rates. \n",
      "    *PredictiveFilter settings far from ideal. Adapted for this demo\n",
      "    *I'm not even sure if the \"rates\" are correct. \n",
      "\n",
      "So take this with a brick of salt. Its just supposed to paint the picture\n"
     ]
    },
    {
     "cell_type": "code",
     "collapsed": false,
     "input": [
      "Fs = 20 # 20Hz\n",
      "## Sample every NTH time...\n",
      "NTH = n_analog/Fs\n",
      "samples_per_second = Fs/n_analog\n",
      "samples = []\n",
      "samples_cont = []  # to build up list equal length of original\n",
      "t_sample = []\n",
      "t_sample_cont = [] # to build up leist equal length of original\n",
      "ideal_error = []\n",
      "\n",
      "Fa = 1000\n",
      "NTHa = n_analog/Fa\n",
      "actuations_per_second = Fa/n_analog\n",
      "\n",
      "\n",
      "###### Create and configure the PredictiveFilter\n",
      "pf=pypfilt.PyPredictiveFilter()\n",
      "numPointsToFilter=12\n",
      "cutoffFreq=1\n",
      "polyorder=1\n",
      "numPointsToFit = 2\n",
      "pf.configure(numPointsToFilter=numPointsToFilter)\n",
      "\n",
      "## Allocate\n",
      "# predictedPoints = np.zeros(len(s_analog)+1)\n",
      "# pf_error = np.zeros(len(s_analog)+1)\n",
      "predictedPoints = []\n",
      "pf_error=[]\n",
      "\n",
      "\n",
      "for idx,sample in enumerate(s_analog):\n",
      "    \n",
      "    t_sample_cont.append(t_analog[idx])\n",
      "    ## Sample at 20 Hz\n",
      "    if (idx % NTH) == 0:  \n",
      "        samples.append(sample)\n",
      "        samples_cont.append(sample)\n",
      "        t_sample.append(t_analog[idx])\n",
      "        \n",
      "        \n",
      "        ###### Add each sample to the predictive filter:\n",
      "        ##       Note, Predictive Filter does not take floating point X axis values. Needs longs for now. \n",
      "        ##       So must feed in Indexes, not actual time values. Its still the same. \n",
      "        pf.addData(idx, sample) \n",
      "        ## Filter the data we have. Generates polynomial too. \n",
      "        pf.filter(cutoffFreq, polyorder,numPointsToFit=numPointsToFit)\n",
      "    else:\n",
      "        samples_cont.append(samples[-1])\n",
      "    \n",
      "    ## Get a new prediction at 1KHz (every 5 \"analog points\". ) I know this is stupid\n",
      "    if (idx % NTHa) == 0:\n",
      "        if len(samples) >= numPointsToFilter:\n",
      "            predictedPoints.append(pf.getPrediction(idx))\n",
      "        else:\n",
      "            predictedPoints.append(samples[-1])\n",
      "    else:\n",
      "        predictedPoints.append(predictedPoints[-1])\n",
      "    \n",
      "    ###### Error from Idealized Sense-React system and predictive one\n",
      "    ideal_error.append(sample-samples[-1])\n",
      "\n",
      "pf_error = np.subtract(s_analog,predictedPoints).tolist()\n",
      "\n",
      "plt.figure();plt.hold();plt.plot(t_sample,samples,'k*');plt.plot(t_analog,ideal_error,'r');plt.plot(t_analog,s_analog)\n",
      "plt.plot(t_analog,predictedPoints,'g.')\n",
      "plt.grid();plt.show();plt.close()\n",
      "## Gotta run twice to get the plot to work. Stupid Matplotlib\n",
      "plt.figure();plt.hold();plt.plot(t_sample,samples,'k*');plt.plot(t_analog,ideal_error,'r');plt.plot(t_analog,s_analog)\n",
      "plt.plot(t_analog,predictedPoints,'g.')\n",
      "plt.grid();plt.show();plt.close()\n",
      "del(pf)\n",
      "\n",
      "    "
     ],
     "language": "python",
     "metadata": {},
     "outputs": []
    },
    {
     "cell_type": "heading",
     "level": 2,
     "metadata": {},
     "source": [
      "This shows how even with PERFECT and immediate sensing and actuation, the error in your control system can still grow\n",
      "due to the fact that your esimated trajectory and the true trajectory will diverge between observations. For systems when you can actuate faster than you can sense, the predictive filter can help to eliminate this error"
     ]
    },
    {
     "cell_type": "markdown",
     "metadata": {},
     "source": [
      "**Blue** is the real signal\n",
      "\n",
      "**Red** is the error of the signal given PERFECT sampling and actuation. I.E. as soon as we take a sample, \n",
      "we immediately \"actuate\" and move to the sampled position. Between updates, the reference signal moves away from \n",
      "where our last updated position put us. Error grows between updates. \n",
      "\n",
      "**Green** is the PredictiveFilter error. After enough samples, we start using the filter. After that point, the predictive\n",
      "filter estimates the signal trajectory IN BETWEEN samples. This allows the actuator to move inbetween updates to more\n",
      "closely match the reference trajectory. Yay!"
     ]
    },
    {
     "cell_type": "code",
     "collapsed": false,
     "input": [
      "l2=len(t_analog)/2\n",
      "print np.std(ideal_error)\n",
      "print np.std(pf_error[l2:-1])\n",
      "([a],[b],[c])=pydygraphs.subplot(3,1,width=800,height=900)\n",
      "a.plot(t_analog[l2:-1],[s_analog[l2:-1],samples_cont[l2:-1],ideal_error[l2:-1]],color=[\"red\",\"blue\",\"black\"],ylabels=[\"True Motion\",\"Raw Estimates\",\"Error\"])\n",
      "# a.plot(t_analog,[ideal_error,s_analog,pf_error[0:-1]],color=[\"red\",\"blue\",\"green\"],ylabels=[\"Sample Error\",\"Raw Motion\",\"PF Error\"])\n",
      "a.xlabel('Time [s]')\n",
      "a.ylabel('Amplitude [arcseconds]')\n",
      "a.title(\"Reference Signal Discrete Estimation\")\n",
      "a.show()\n",
      "\n",
      "b.plot(t_analog[l2:-1],[s_analog[l2:-1],predictedPoints[l2:-1], pf_error[l2:-1]],color=[\"turquoise\",\"green\",\"blue\"],ylabels=[\"True Motion\",\"PF Estimates\",\"PF Error\"])\n",
      "b.xlabel('Time [s]')\n",
      "b.ylabel('Amplitude [arcseconds]')\n",
      "b.title(\"Reference Signal Predictive Filter Estimation\")\n",
      "b.show()"
     ],
     "language": "python",
     "metadata": {},
     "outputs": []
    },
    {
     "cell_type": "code",
     "collapsed": false,
     "input": [
      "fig2=pydygraphs.figure(width=800,height=300)\n",
      "fig2.plot(t_analog,[s_analog,predictedPoints[0:-1]],color=[\"green\",\"red\",\"blue\"],ylabels=[\"Raw Motion\",\"PF FSM Motion\"])\n",
      "fig2.xlabel('Time [s]')\n",
      "fig2.ylabel('Error')\n",
      "fig2.title(\"Predicted Signal vs True Signal\")\n",
      "fig2.show()"
     ],
     "language": "python",
     "metadata": {},
     "outputs": []
    },
    {
     "cell_type": "code",
     "collapsed": false,
     "input": [
      "###### Create and configure the PredictiveFilter\n",
      "pf=pypfilt.PyPredictiveFilter()\n",
      "numPointsToFilter=12\n",
      "cutoffFreq=1\n",
      "polyorder=1\n",
      "numPointsToFit = 2\n",
      "pf.configure(numPointsToFilter=numPointsToFilter)"
     ],
     "language": "python",
     "metadata": {},
     "outputs": []
    },
    {
     "cell_type": "markdown",
     "metadata": {},
     "source": []
    },
    {
     "cell_type": "code",
     "collapsed": false,
     "input": [
      "print pf.getData()\n",
      "pf.addData(100,290)\n",
      "print pf.getData()\n",
      "pf.addData([1,2,3],[5,3,2])\n",
      "print pf.getData()\n",
      "print pf.getTime()\n",
      "x=np."
     ],
     "language": "python",
     "metadata": {},
     "outputs": []
    },
    {
     "cell_type": "code",
     "collapsed": false,
     "input": [
      "pf.getData()\n"
     ],
     "language": "python",
     "metadata": {},
     "outputs": []
    },
    {
     "cell_type": "code",
     "collapsed": false,
     "input": [
      "type(np.ndarray(t_analog[1]))"
     ],
     "language": "python",
     "metadata": {},
     "outputs": []
    },
    {
     "cell_type": "code",
     "collapsed": false,
     "input": [
      "\n"
     ],
     "language": "python",
     "metadata": {},
     "outputs": []
    },
    {
     "cell_type": "code",
     "collapsed": false,
     "input": [],
     "language": "python",
     "metadata": {},
     "outputs": []
    }
   ],
   "metadata": {}
  }
 ]
}