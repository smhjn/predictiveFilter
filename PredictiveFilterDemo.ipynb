{
 "metadata": {
  "kernelspec": {
   "codemirror_mode": {
    "name": "ipython",
    "version": 2
   },
   "display_name": "IPython (Python 2)",
   "language": "python",
   "name": "python2"
  },
  "name": "",
  "signature": "sha256:78a364e54813a9aafdf7d9e987a07c5d3672b48987da0f65fe0af88935737982"
 },
 "nbformat": 3,
 "nbformat_minor": 0,
 "worksheets": [
  {
   "cells": [
    {
     "cell_type": "heading",
     "level": 1,
     "metadata": {},
     "source": [
      "Illustration/Demonstration of the predictiveFilter library"
     ]
    },
    {
     "cell_type": "code",
     "collapsed": false,
     "input": [
      "!make"
     ],
     "language": "python",
     "metadata": {},
     "outputs": [
      {
       "output_type": "stream",
       "stream": "stdout",
       "text": [
        "# make -C ./cdhlib\r\n"
       ]
      }
     ],
     "prompt_number": 1
    },
    {
     "cell_type": "code",
     "collapsed": false,
     "input": [
      "from PyDyGraphs import pydygraphs\n",
      "import PyPredictiveFilter as pypfilt\n",
      "import numpy as np\n",
      "import scipy as sp\n",
      "import pandas as pd\n",
      "import pylab as plt\n",
      "%matplotlib inline"
     ],
     "language": "python",
     "metadata": {},
     "outputs": [],
     "prompt_number": 2
    },
    {
     "cell_type": "heading",
     "level": 3,
     "metadata": {},
     "source": [
      "## Maybe look up how to do this with a step response? \n",
      "##  http://python-control.sourceforge.net/manual/timeresp.html"
     ]
    },
    {
     "cell_type": "code",
     "collapsed": false,
     "input": [
      "freq_analog = 0.5    #Hz\n",
      "numPeriods  = 2\n",
      "amp = 5 #arcesconds\n",
      "n_analog = 10000 \n",
      "points_per_second = n_analog / freq_analog\n",
      "t_analog = np.arange(-numPeriods/2/freq_analog,numPeriods/2/freq_analog,1.0/n_analog)\n",
      "noise = (np.random.rand(len(t_analog))-0.5)*0.5\n",
      "s_analog = amp * np.sin(t_analog*2*np.pi*freq_analog) #+ noise #+ 1.5*np.sin(t_analog*2*np.pi*freq_analog*10)+ noise\n",
      "fig = pydygraphs.figure(width = 500, height = 150)\n",
      "data=pd.DataFrame()\n",
      "data[\"Time\"] = t_analog;data[\"Signal\"] = s_analog\n",
      "fig.plotDataFrame(data,\"Time\")\n",
      "fig.title(\"Input Signal\");fig.xlabel('Time [s]');fig.ylabel('Motion [arcseconds]')\n",
      "fig.show()"
     ],
     "language": "python",
     "metadata": {},
     "outputs": [
      {
       "html": [
        "\n",
        "    <script src=\"http://dygraphs.com/dygraph-combined.js\"></script>\n",
        "    <table style=\"width: 500px; border-style: hidden;\">\n",
        "    <tr><td style=\"border-style: hidden;\"><div id='Figure0' style=\"width: 500px; height: 150px;\"></div></td></tr>\n",
        "    <tr><td style=\"border-style: hidden;\"><div style=\"text-align:right; width: 500px; height: auto;\"; id='Figure0_legend'></div></td></tr>\n",
        "    </table>\n",
        "    "
       ],
       "metadata": {},
       "output_type": "display_data",
       "text": [
        "<IPython.core.display.HTML object>"
       ]
      },
      {
       "html": [
        "\n",
        "\t    <script type=\"text/javascript\">\n",
        "\t    function convertToDataTable_Figure0(d) {\n",
        "\t      var columns = _.keys(d);\n",
        "\t      var x_col = 'Time';\n",
        "\t      columns.splice(columns.indexOf(x_col), 1);  // Get index column. (prob index). Don't need to do this just to plot all\n",
        "\t      var out = [];\n",
        "\t      var i = 0;\n",
        "\t      for (var k in d[x_col]) {\n",
        "\t        var row = [d[x_col][k]];\n",
        "\t        columns.forEach(function(col) {\n",
        "\t          row.push(d[col][k]);\n",
        "\t        });\n",
        "\t        out.push(row);\n",
        "\t      }\n",
        "\t      return {data:out, labels:[x_col].concat(columns)};\n",
        "\t    }\n",
        "\n",
        "\t    function handle_output_Figure0(out) {\n",
        "\t      var json = out.content.data['text/plain'];\n",
        "\t      var data = JSON.parse(eval(json));\n",
        "\t      var tabular = convertToDataTable_Figure0(data);\n",
        "\t      \n",
        "            g = new Dygraph(document.getElementById('Figure0'), tabular.data, {\n",
        "                legend: 'always',\n",
        "                labels: tabular.labels,\n",
        "                labelsDivStyles: { 'textAlign': 'right' },\n",
        "                rollPeriod: 1,\n",
        "                showRoller: true,\n",
        "                animatedZooms: true,\n",
        "\t        \n",
        "                showRoller: true,\n",
        "            \n",
        "                title: 'Input Signal',\n",
        "                xlabel: 'Time [s]',\n",
        "            \n",
        "                ylabel: 'Motion [arcseconds]',\n",
        "            \n",
        "               labelsDiv: 'Figure0_legend',\n",
        "\t           errorBars: false\n",
        "\t      })\n",
        "\t    }\n",
        "\t    var kernel = IPython.notebook.kernel;\n",
        "\t    var callbacks_Figure0 = { 'iopub' : {'output' : handle_output_Figure0}};\n",
        "\t    kernel.execute(\"pydygraphs.__PYDYGRAPH__FIGURE__JSON__[0]\", callbacks_Figure0, {silent:false});\n",
        "\t    </script>\n",
        "\t    "
       ],
       "metadata": {},
       "output_type": "display_data",
       "text": [
        "<IPython.core.display.HTML object>"
       ]
      }
     ],
     "prompt_number": 3
    },
    {
     "cell_type": "heading",
     "level": 2,
     "metadata": {},
     "source": [
      "Simulate Control System, 20Hz Sampling"
     ]
    },
    {
     "cell_type": "code",
     "collapsed": false,
     "input": [
      "# _DEBUG = True\n",
      "# def getPrediction(index,time,dataset,numPointsToFilter,pf,cutoffFreq,polyorder,overridePointsToFit=0):\n",
      "#     # currIdx = offset + numPointsToFilter\n",
      "#     ## Add data to filter\n",
      "#     if index < numPointsToFilter:\n",
      "#         print \"Can't get prediction with dataset at index: \", index, ' with numPointsToFilter: ', numPointsToFilter\n",
      "#         return 0 # return None\n",
      "#     if _DEBUG:\n",
      "#         print \"Adding dataset[\",str(index-numPointsToFilter),\":\",str(index),\"]\"\n",
      "#     ret = pf.addData(time[index-numPointsToFilter:index], dataset[index-numPointsToFilter:index])\n",
      "#     if ret:\n",
      "#         print \"*** addData() failed! returned\", ret\n",
      "    \n",
      "#     ## Apply filter\n",
      "#     ret = pf.filter(cutoffFreq, polyorder,numPointsToFit=overridePointsToFit)\n",
      "#     if ret:\n",
      "#         print \"*** filter() failed! returned\", ret\n",
      "\n",
      "#     ## Get next predicted point at next deltaT timestep\n",
      "#     p = pf.getPrediction(time[index+1])\n",
      "    \n",
      "#     ## Dumb check\n",
      "#     if abs(p) > 10:\n",
      "#         return 0\n",
      "\n",
      "#     # predictedPoints[currIdx+1] = p\n",
      "#     return p"
     ],
     "language": "python",
     "metadata": {},
     "outputs": [],
     "prompt_number": 4
    },
    {
     "cell_type": "heading",
     "level": 2,
     "metadata": {},
     "source": [
      "somewhat This is super cluge-balls. Not Robust, smart, and should be deleted. But it paints the picture (literally) of how the predictive filter works.\n",
      "Specifically: \n",
      "    *This is all stupidly based on array indexes for sampling rates. \n",
      "    *PredictiveFilter settings far from ideal. Adapted for this demo\n",
      "    *I'm not even sure if the \"rates\" are correct. \n",
      "\n",
      "So take this with a brick of salt. Its just supposed to paint the picture\n"
     ]
    },
    {
     "cell_type": "code",
     "collapsed": false,
     "input": [
      "Fs = 20 # 20Hz\n",
      "## Sample every NTH time...\n",
      "NTH = n_analog/Fs\n",
      "samples_per_second = Fs/n_analog\n",
      "samples = []\n",
      "samples_cont = []  # to build up list equal length of original\n",
      "t_sample = []\n",
      "t_sample_cont = [] # to build up leist equal length of original\n",
      "ideal_error = []\n",
      "\n",
      "Fa = 1000\n",
      "NTHa = n_analog/Fa\n",
      "actuations_per_second = Fa/n_analog\n",
      "\n",
      "\n",
      "###### Create and configure the PredictiveFilter\n",
      "pf=pypfilt.PyPredictiveFilter()\n",
      "numPointsToFilter=20\n",
      "cutoffFreq=1\n",
      "polyorder=2\n",
      "numPointsToFit = 5\n",
      "pf.configure(numPointsToFilter=numPointsToFilter)\n",
      "\n",
      "## Allocate\n",
      "# predictedPoints = np.zeros(len(s_analog)+1)\n",
      "# pf_error = np.zeros(len(s_analog)+1)\n",
      "predictedPoints = []\n",
      "pf_error=[]\n",
      "\n",
      "\n",
      "for idx,sample in enumerate(s_analog):\n",
      "    \n",
      "    t_sample_cont.append(t_analog[idx])\n",
      "    ## Sample at 20 Hz\n",
      "    if (idx % NTH) == 0:  \n",
      "        samples.append(sample)\n",
      "        samples_cont.append(sample)\n",
      "        t_sample.append(t_analog[idx])\n",
      "        \n",
      "        \n",
      "        ###### Add each sample to the predictive filter:\n",
      "        ##       Note, Predictive Filter does not take floating point X axis values. Needs longs for now. \n",
      "        ##       So must feed in Indexes, not actual time values. Its still the same. \n",
      "        pf.addData(idx, sample) \n",
      "        ## Filter the data we have. Generates polynomial too. \n",
      "        pf.filter(cutoffFreq, polyorder,numPointsToFit=numPointsToFit)\n",
      "    else:\n",
      "        samples_cont.append(samples[-1])\n",
      "    \n",
      "    ## Get a new prediction at 1KHz (every 5 \"analog points\". ) I know this is stupid\n",
      "    if (idx % NTHa) == 0:\n",
      "        if len(samples) >= numPointsToFilter:\n",
      "            predictedPoints.append(pf.getPrediction(idx))\n",
      "        else:\n",
      "            predictedPoints.append(samples[-1])\n",
      "    else:\n",
      "        predictedPoints.append(predictedPoints[-1])\n",
      "    \n",
      "    ###### Error from Idealized Sense-React system and predictive one\n",
      "    ideal_error.append(sample-samples[-1])\n",
      "\n",
      "pf_error = np.subtract(s_analog,predictedPoints).tolist()\n",
      "\n",
      "plt.figure();plt.hold();plt.plot(t_sample,samples,'k*');plt.plot(t_analog,ideal_error,'r');plt.plot(t_analog,s_analog)\n",
      "plt.plot(t_analog,predictedPoints,'g.')\n",
      "plt.grid();plt.show();plt.close()\n",
      "## Gotta run twice to get the plot to work. Stupid Matplotlib\n",
      "plt.figure();plt.hold();plt.plot(t_sample,samples,'k*');plt.plot(t_analog,ideal_error,'r');plt.plot(t_analog,s_analog)\n",
      "plt.plot(t_analog,predictedPoints,'g.')\n",
      "plt.grid();plt.show();plt.close()\n",
      "del(pf)\n",
      "\n",
      "    "
     ],
     "language": "python",
     "metadata": {},
     "outputs": [
      {
       "metadata": {},
       "output_type": "display_data",
       "png": "[encoded data removed]",
       "text": [
        "<matplotlib.figure.Figure at 0x10662ca90>"
       ]
      },
      {
       "metadata": {},
       "output_type": "display_data",
       "png": "[encoded data removed]",
       "text": [
        "<matplotlib.figure.Figure at 0x10a2f8090>"
       ]
      }
     ],
     "prompt_number": 5
    },
    {
     "cell_type": "heading",
     "level": 2,
     "metadata": {},
     "source": [
      "This shows how even with PERFECT and immediate sensing and actuation, the error in your control system can still grow\n",
      "due to the fact that your esimated trajectory and the true trajectory will diverge between observations. For systems when you can actuate faster than you can sense, the predictive filter can help to eliminate this error"
     ]
    },
    {
     "cell_type": "markdown",
     "metadata": {},
     "source": [
      "**Blue** is the real signal\n",
      "\n",
      "**Red** is the error of the signal given PERFECT sampling and actuation. I.E. as soon as we take a sample, \n",
      "we immediately \"actuate\" and move to the sampled position. Between updates, the reference signal moves away from \n",
      "where our last updated position put us. Error grows between updates. \n",
      "\n",
      "**Green** is the PredictiveFilter error. After enough samples, we start using the filter. After that point, the predictive\n",
      "filter estimates the signal trajectory IN BETWEEN samples. This allows the actuator to move inbetween updates to more\n",
      "closely match the reference trajectory. Yay!"
     ]
    },
    {
     "cell_type": "code",
     "collapsed": false,
     "input": [
      "l2=len(t_analog)/2\n",
      "print np.std(ideal_error)\n",
      "print np.std(pf_error[l2:-1])\n",
      "([a],[b],[c])=pydygraphs.subplot(3,1,width=500,height=500)\n",
      "a.plot(t_analog[l2:-1],[s_analog[l2:-1],samples_cont[l2:-1],ideal_error[l2:-1]],color=[\"red\",\"blue\",\"black\"],ylabels=[\"True Motion\",\"Raw Estimates\",\"Error\"])\n",
      "# a.plot(t_analog,[ideal_error,s_analog,pf_error[0:-1]],color=[\"red\",\"blue\",\"green\"],ylabels=[\"Sample Error\",\"Raw Motion\",\"PF Error\"])\n",
      "a.xlabel('Time [s]')\n",
      "a.ylabel('Amplitude [arcseconds]')\n",
      "a.title(\"Reference Signal Discrete Estimation\")\n",
      "a.show()\n",
      "\n",
      "b.plot(t_analog[l2:-1],[s_analog[l2:-1],predictedPoints[l2:-1], pf_error[l2:-1]],color=[\"red\",\"blue\",\"black\"],ylabels=[\"True Motion\",\"PF Estimates\",\"PF Error\"])\n",
      "b.xlabel('Time [s]')\n",
      "b.ylabel('Amplitude [arcseconds]')\n",
      "b.title(\"Reference Signal Predictive Filter Estimation\")\n",
      "b.show()"
     ],
     "language": "python",
     "metadata": {},
     "outputs": [
      {
       "output_type": "stream",
       "stream": "stdout",
       "text": [
        "0.319959422737\n",
        "0.016443834008\n"
       ]
      },
      {
       "html": [
        "<script src=\"http://dygraphs.com/dygraph-combined.js\"></script>\n",
        "                    <table style=\"width: 500px; border-style: hidden;\"><tr><td style=\"border-style: hidden;\">\n",
        "    <script src=\"http://dygraphs.com/dygraph-combined.js\"></script>\n",
        "    <table style=\"width: 500px; border-style: hidden;\">\n",
        "    <tr><td style=\"border-style: hidden;\"><div id='Figure4' style=\"width: 500px; height: 166px;\"></div></td></tr>\n",
        "    <tr><td style=\"border-style: hidden;\"><div style=\"text-align:right; width: 500px; height: auto;\"; id='Figure4_legend'></div></td></tr>\n",
        "    </table>\n",
        "    </td></tr><tr><td style=\"border-style: hidden;\">\n",
        "    <script src=\"http://dygraphs.com/dygraph-combined.js\"></script>\n",
        "    <table style=\"width: 500px; border-style: hidden;\">\n",
        "    <tr><td style=\"border-style: hidden;\"><div id='Figure5' style=\"width: 500px; height: 166px;\"></div></td></tr>\n",
        "    <tr><td style=\"border-style: hidden;\"><div style=\"text-align:right; width: 500px; height: auto;\"; id='Figure5_legend'></div></td></tr>\n",
        "    </table>\n",
        "    </td></tr><tr><td style=\"border-style: hidden;\">\n",
        "    <script src=\"http://dygraphs.com/dygraph-combined.js\"></script>\n",
        "    <table style=\"width: 500px; border-style: hidden;\">\n",
        "    <tr><td style=\"border-style: hidden;\"><div id='Figure6' style=\"width: 500px; height: 166px;\"></div></td></tr>\n",
        "    <tr><td style=\"border-style: hidden;\"><div style=\"text-align:right; width: 500px; height: auto;\"; id='Figure6_legend'></div></td></tr>\n",
        "    </table>\n",
        "    </td></tr></table>"
       ],
       "metadata": {},
       "output_type": "display_data",
       "text": [
        "<IPython.core.display.HTML object>"
       ]
      },
      {
       "html": [
        "\n",
        "\t    <script type=\"text/javascript\">\n",
        "\t    function convertToDataTable_Figure4(d) {\n",
        "\t      var columns = _.keys(d);\n",
        "\t      var x_col = '_x_axis_label_';\n",
        "\t      columns.splice(columns.indexOf(x_col), 1);  // Get index column. (prob index). Don't need to do this just to plot all\n",
        "\t      var out = [];\n",
        "\t      var i = 0;\n",
        "\t      for (var k in d[x_col]) {\n",
        "\t        var row = [d[x_col][k]];\n",
        "\t        columns.forEach(function(col) {\n",
        "\t          row.push(d[col][k]);\n",
        "\t        });\n",
        "\t        out.push(row);\n",
        "\t      }\n",
        "\t      return {data:out, labels:[x_col].concat(columns)};\n",
        "\t    }\n",
        "\n",
        "\t    function handle_output_Figure4(out) {\n",
        "\t      var json = out.content.data['text/plain'];\n",
        "\t      var data = JSON.parse(eval(json));\n",
        "\t      var tabular = convertToDataTable_Figure4(data);\n",
        "\t      \n",
        "            g = new Dygraph(document.getElementById('Figure4'), tabular.data, {\n",
        "                legend: 'always',\n",
        "                labels: tabular.labels,\n",
        "                labelsDivStyles: { 'textAlign': 'right' },\n",
        "                rollPeriod: 1,\n",
        "                showRoller: true,\n",
        "                animatedZooms: true,\n",
        "\t        \n",
        "                showRoller: true,\n",
        "            \n",
        "                colors: [\"red\",\"blue\",\"black\"],\n",
        "            \n",
        "                title: 'Reference Signal Discrete Estimation',\n",
        "                xlabel: 'Time [s]',\n",
        "            \n",
        "                ylabel: 'Amplitude [arcseconds]',\n",
        "            \n",
        "               labelsDiv: 'Figure4_legend',\n",
        "\t           errorBars: false\n",
        "\t      })\n",
        "\t    }\n",
        "\t    var kernel = IPython.notebook.kernel;\n",
        "\t    var callbacks_Figure4 = { 'iopub' : {'output' : handle_output_Figure4}};\n",
        "\t    kernel.execute(\"pydygraphs.__PYDYGRAPH__FIGURE__JSON__[4]\", callbacks_Figure4, {silent:false});\n",
        "\t    </script>\n",
        "\t    "
       ],
       "metadata": {},
       "output_type": "display_data",
       "text": [
        "<IPython.core.display.HTML object>"
       ]
      },
      {
       "html": [
        "\n",
        "\t    <script type=\"text/javascript\">\n",
        "\t    function convertToDataTable_Figure5(d) {\n",
        "\t      var columns = _.keys(d);\n",
        "\t      var x_col = '_x_axis_label_';\n",
        "\t      columns.splice(columns.indexOf(x_col), 1);  // Get index column. (prob index). Don't need to do this just to plot all\n",
        "\t      var out = [];\n",
        "\t      var i = 0;\n",
        "\t      for (var k in d[x_col]) {\n",
        "\t        var row = [d[x_col][k]];\n",
        "\t        columns.forEach(function(col) {\n",
        "\t          row.push(d[col][k]);\n",
        "\t        });\n",
        "\t        out.push(row);\n",
        "\t      }\n",
        "\t      return {data:out, labels:[x_col].concat(columns)};\n",
        "\t    }\n",
        "\n",
        "\t    function handle_output_Figure5(out) {\n",
        "\t      var json = out.content.data['text/plain'];\n",
        "\t      var data = JSON.parse(eval(json));\n",
        "\t      var tabular = convertToDataTable_Figure5(data);\n",
        "\t      \n",
        "            g = new Dygraph(document.getElementById('Figure5'), tabular.data, {\n",
        "                legend: 'always',\n",
        "                labels: tabular.labels,\n",
        "                labelsDivStyles: { 'textAlign': 'right' },\n",
        "                rollPeriod: 1,\n",
        "                showRoller: true,\n",
        "                animatedZooms: true,\n",
        "\t        \n",
        "                showRoller: true,\n",
        "            \n",
        "                colors: [\"red\",\"blue\",\"black\"],\n",
        "            \n",
        "                title: 'Reference Signal Predictive Filter Estimation',\n",
        "                xlabel: 'Time [s]',\n",
        "            \n",
        "                ylabel: 'Amplitude [arcseconds]',\n",
        "            \n",
        "               labelsDiv: 'Figure5_legend',\n",
        "\t           errorBars: false\n",
        "\t      })\n",
        "\t    }\n",
        "\t    var kernel = IPython.notebook.kernel;\n",
        "\t    var callbacks_Figure5 = { 'iopub' : {'output' : handle_output_Figure5}};\n",
        "\t    kernel.execute(\"pydygraphs.__PYDYGRAPH__FIGURE__JSON__[5]\", callbacks_Figure5, {silent:false});\n",
        "\t    </script>\n",
        "\t    "
       ],
       "metadata": {},
       "output_type": "display_data",
       "text": [
        "<IPython.core.display.HTML object>"
       ]
      }
     ],
     "prompt_number": 7
    },
    {
     "cell_type": "code",
     "collapsed": false,
     "input": [
      "fig2=pydygraphs.figure(width=800,height=300)\n",
      "fig2.plot(t_analog,[s_analog,predictedPoints[0:-1]],color=[\"green\",\"red\",\"blue\"],ylabels=[\"Raw Motion\",\"PF FSM Motion\"])\n",
      "fig2.xlabel('Time [s]')\n",
      "fig2.ylabel('Error')\n",
      "fig2.title(\"Predicted Signal vs True Signal\")\n",
      "fig2.show()"
     ],
     "language": "python",
     "metadata": {},
     "outputs": [
      {
       "html": [
        "\n",
        "    <script src=\"http://dygraphs.com/dygraph-combined.js\"></script>\n",
        "    <table style=\"width: 800px; border-style: hidden;\">\n",
        "    <tr><td style=\"border-style: hidden;\"><div id='Figure6' style=\"width: 800px; height: 300px;\"></div></td></tr>\n",
        "    <tr><td style=\"border-style: hidden;\"><div style=\"text-align:right; width: 800px; height: auto;\"; id='Figure6_legend'></div></td></tr>\n",
        "    </table>\n",
        "    "
       ],
       "metadata": {},
       "output_type": "display_data",
       "text": [
        "<IPython.core.display.HTML object>"
       ]
      },
      {
       "ename": "ValueError",
       "evalue": "arrays must all be same length",
       "output_type": "pyerr",
       "traceback": [
        "\u001b[0;31m---------------------------------------------------------------------------\u001b[0m",
        "\u001b[0;31mValueError\u001b[0m                                Traceback (most recent call last)",
        "\u001b[0;32m<ipython-input-7-3b5e0873ad3e>\u001b[0m in \u001b[0;36m<module>\u001b[0;34m()\u001b[0m\n\u001b[1;32m      1\u001b[0m \u001b[0mfig2\u001b[0m\u001b[0;34m=\u001b[0m\u001b[0mpydygraphs\u001b[0m\u001b[0;34m.\u001b[0m\u001b[0mfigure\u001b[0m\u001b[0;34m(\u001b[0m\u001b[0mwidth\u001b[0m\u001b[0;34m=\u001b[0m\u001b[0;36m800\u001b[0m\u001b[0;34m,\u001b[0m\u001b[0mheight\u001b[0m\u001b[0;34m=\u001b[0m\u001b[0;36m300\u001b[0m\u001b[0;34m)\u001b[0m\u001b[0;34m\u001b[0m\u001b[0m\n\u001b[0;32m----> 2\u001b[0;31m \u001b[0mfig2\u001b[0m\u001b[0;34m.\u001b[0m\u001b[0mplot\u001b[0m\u001b[0;34m(\u001b[0m\u001b[0mt_analog\u001b[0m\u001b[0;34m,\u001b[0m\u001b[0;34m[\u001b[0m\u001b[0ms_analog\u001b[0m\u001b[0;34m,\u001b[0m\u001b[0mpredictedPoints\u001b[0m\u001b[0;34m[\u001b[0m\u001b[0;36m0\u001b[0m\u001b[0;34m:\u001b[0m\u001b[0;34m-\u001b[0m\u001b[0;36m1\u001b[0m\u001b[0;34m]\u001b[0m\u001b[0;34m]\u001b[0m\u001b[0;34m,\u001b[0m\u001b[0mcolor\u001b[0m\u001b[0;34m=\u001b[0m\u001b[0;34m[\u001b[0m\u001b[0;34m\"green\"\u001b[0m\u001b[0;34m,\u001b[0m\u001b[0;34m\"red\"\u001b[0m\u001b[0;34m,\u001b[0m\u001b[0;34m\"blue\"\u001b[0m\u001b[0;34m]\u001b[0m\u001b[0;34m,\u001b[0m\u001b[0mylabels\u001b[0m\u001b[0;34m=\u001b[0m\u001b[0;34m[\u001b[0m\u001b[0;34m\"Raw Motion\"\u001b[0m\u001b[0;34m,\u001b[0m\u001b[0;34m\"PF FSM Motion\"\u001b[0m\u001b[0;34m]\u001b[0m\u001b[0;34m)\u001b[0m\u001b[0;34m\u001b[0m\u001b[0m\n\u001b[0m\u001b[1;32m      3\u001b[0m \u001b[0mfig2\u001b[0m\u001b[0;34m.\u001b[0m\u001b[0mxlabel\u001b[0m\u001b[0;34m(\u001b[0m\u001b[0;34m'Time [s]'\u001b[0m\u001b[0;34m)\u001b[0m\u001b[0;34m\u001b[0m\u001b[0m\n\u001b[1;32m      4\u001b[0m \u001b[0mfig2\u001b[0m\u001b[0;34m.\u001b[0m\u001b[0mylabel\u001b[0m\u001b[0;34m(\u001b[0m\u001b[0;34m'Error'\u001b[0m\u001b[0;34m)\u001b[0m\u001b[0;34m\u001b[0m\u001b[0m\n\u001b[1;32m      5\u001b[0m \u001b[0mfig2\u001b[0m\u001b[0;34m.\u001b[0m\u001b[0mtitle\u001b[0m\u001b[0;34m(\u001b[0m\u001b[0;34m\"Predicted Signal vs True Signal\"\u001b[0m\u001b[0;34m)\u001b[0m\u001b[0;34m\u001b[0m\u001b[0m\n",
        "\u001b[0;32m/Users/zach/code/predictiveFilter/PyDyGraphs/pydygraphs.pyc\u001b[0m in \u001b[0;36mplot\u001b[0;34m(self, x, y, ylabels, color, rangeselector, logscale, showroller)\u001b[0m\n\u001b[1;32m     68\u001b[0m             \u001b[0mtable\u001b[0m\u001b[0;34m[\u001b[0m\u001b[0mlabel\u001b[0m\u001b[0;34m]\u001b[0m \u001b[0;34m=\u001b[0m \u001b[0mdata\u001b[0m\u001b[0;34m\u001b[0m\u001b[0m\n\u001b[1;32m     69\u001b[0m \u001b[0;34m\u001b[0m\u001b[0m\n\u001b[0;32m---> 70\u001b[0;31m         \u001b[0mdataframe\u001b[0m \u001b[0;34m=\u001b[0m \u001b[0mpd\u001b[0m\u001b[0;34m.\u001b[0m\u001b[0mDataFrame\u001b[0m\u001b[0;34m(\u001b[0m\u001b[0mtable\u001b[0m\u001b[0;34m)\u001b[0m\u001b[0;34m\u001b[0m\u001b[0m\n\u001b[0m\u001b[1;32m     71\u001b[0m \u001b[0;34m\u001b[0m\u001b[0m\n\u001b[1;32m     72\u001b[0m         \u001b[0;31m# Return plot:\u001b[0m\u001b[0;34m\u001b[0m\u001b[0;34m\u001b[0m\u001b[0m\n",
        "\u001b[0;32m//anaconda/lib/python2.7/site-packages/pandas/core/frame.pyc\u001b[0m in \u001b[0;36m__init__\u001b[0;34m(self, data, index, columns, dtype, copy)\u001b[0m\n\u001b[1;32m    201\u001b[0m                                  dtype=dtype, copy=copy)\n\u001b[1;32m    202\u001b[0m         \u001b[0;32melif\u001b[0m \u001b[0misinstance\u001b[0m\u001b[0;34m(\u001b[0m\u001b[0mdata\u001b[0m\u001b[0;34m,\u001b[0m \u001b[0mdict\u001b[0m\u001b[0;34m)\u001b[0m\u001b[0;34m:\u001b[0m\u001b[0;34m\u001b[0m\u001b[0m\n\u001b[0;32m--> 203\u001b[0;31m             \u001b[0mmgr\u001b[0m \u001b[0;34m=\u001b[0m \u001b[0mself\u001b[0m\u001b[0;34m.\u001b[0m\u001b[0m_init_dict\u001b[0m\u001b[0;34m(\u001b[0m\u001b[0mdata\u001b[0m\u001b[0;34m,\u001b[0m \u001b[0mindex\u001b[0m\u001b[0;34m,\u001b[0m \u001b[0mcolumns\u001b[0m\u001b[0;34m,\u001b[0m \u001b[0mdtype\u001b[0m\u001b[0;34m=\u001b[0m\u001b[0mdtype\u001b[0m\u001b[0;34m)\u001b[0m\u001b[0;34m\u001b[0m\u001b[0m\n\u001b[0m\u001b[1;32m    204\u001b[0m         \u001b[0;32melif\u001b[0m \u001b[0misinstance\u001b[0m\u001b[0;34m(\u001b[0m\u001b[0mdata\u001b[0m\u001b[0;34m,\u001b[0m \u001b[0mma\u001b[0m\u001b[0;34m.\u001b[0m\u001b[0mMaskedArray\u001b[0m\u001b[0;34m)\u001b[0m\u001b[0;34m:\u001b[0m\u001b[0;34m\u001b[0m\u001b[0m\n\u001b[1;32m    205\u001b[0m             \u001b[0;32mimport\u001b[0m \u001b[0mnumpy\u001b[0m\u001b[0;34m.\u001b[0m\u001b[0mma\u001b[0m\u001b[0;34m.\u001b[0m\u001b[0mmrecords\u001b[0m \u001b[0;32mas\u001b[0m \u001b[0mmrecords\u001b[0m\u001b[0;34m\u001b[0m\u001b[0m\n",
        "\u001b[0;32m//anaconda/lib/python2.7/site-packages/pandas/core/frame.pyc\u001b[0m in \u001b[0;36m_init_dict\u001b[0;34m(self, data, index, columns, dtype)\u001b[0m\n\u001b[1;32m    325\u001b[0m \u001b[0;34m\u001b[0m\u001b[0m\n\u001b[1;32m    326\u001b[0m         return _arrays_to_mgr(arrays, data_names, index, columns,\n\u001b[0;32m--> 327\u001b[0;31m                               dtype=dtype)\n\u001b[0m\u001b[1;32m    328\u001b[0m \u001b[0;34m\u001b[0m\u001b[0m\n\u001b[1;32m    329\u001b[0m     def _init_ndarray(self, values, index, columns, dtype=None,\n",
        "\u001b[0;32m//anaconda/lib/python2.7/site-packages/pandas/core/frame.pyc\u001b[0m in \u001b[0;36m_arrays_to_mgr\u001b[0;34m(arrays, arr_names, index, columns, dtype)\u001b[0m\n\u001b[1;32m   4513\u001b[0m     \u001b[0;31m# figure out the index, if necessary\u001b[0m\u001b[0;34m\u001b[0m\u001b[0;34m\u001b[0m\u001b[0m\n\u001b[1;32m   4514\u001b[0m     \u001b[0;32mif\u001b[0m \u001b[0mindex\u001b[0m \u001b[0;32mis\u001b[0m \u001b[0mNone\u001b[0m\u001b[0;34m:\u001b[0m\u001b[0;34m\u001b[0m\u001b[0m\n\u001b[0;32m-> 4515\u001b[0;31m         \u001b[0mindex\u001b[0m \u001b[0;34m=\u001b[0m \u001b[0mextract_index\u001b[0m\u001b[0;34m(\u001b[0m\u001b[0marrays\u001b[0m\u001b[0;34m)\u001b[0m\u001b[0;34m\u001b[0m\u001b[0m\n\u001b[0m\u001b[1;32m   4516\u001b[0m     \u001b[0;32melse\u001b[0m\u001b[0;34m:\u001b[0m\u001b[0;34m\u001b[0m\u001b[0m\n\u001b[1;32m   4517\u001b[0m         \u001b[0mindex\u001b[0m \u001b[0;34m=\u001b[0m \u001b[0m_ensure_index\u001b[0m\u001b[0;34m(\u001b[0m\u001b[0mindex\u001b[0m\u001b[0;34m)\u001b[0m\u001b[0;34m\u001b[0m\u001b[0m\n",
        "\u001b[0;32m//anaconda/lib/python2.7/site-packages/pandas/core/frame.pyc\u001b[0m in \u001b[0;36mextract_index\u001b[0;34m(data)\u001b[0m\n\u001b[1;32m   4561\u001b[0m             \u001b[0mlengths\u001b[0m \u001b[0;34m=\u001b[0m \u001b[0mlist\u001b[0m\u001b[0;34m(\u001b[0m\u001b[0mset\u001b[0m\u001b[0;34m(\u001b[0m\u001b[0mraw_lengths\u001b[0m\u001b[0;34m)\u001b[0m\u001b[0;34m)\u001b[0m\u001b[0;34m\u001b[0m\u001b[0m\n\u001b[1;32m   4562\u001b[0m             \u001b[0;32mif\u001b[0m \u001b[0mlen\u001b[0m\u001b[0;34m(\u001b[0m\u001b[0mlengths\u001b[0m\u001b[0;34m)\u001b[0m \u001b[0;34m>\u001b[0m \u001b[0;36m1\u001b[0m\u001b[0;34m:\u001b[0m\u001b[0;34m\u001b[0m\u001b[0m\n\u001b[0;32m-> 4563\u001b[0;31m                 \u001b[0;32mraise\u001b[0m \u001b[0mValueError\u001b[0m\u001b[0;34m(\u001b[0m\u001b[0;34m'arrays must all be same length'\u001b[0m\u001b[0;34m)\u001b[0m\u001b[0;34m\u001b[0m\u001b[0m\n\u001b[0m\u001b[1;32m   4564\u001b[0m \u001b[0;34m\u001b[0m\u001b[0m\n\u001b[1;32m   4565\u001b[0m             \u001b[0;32mif\u001b[0m \u001b[0mhave_dicts\u001b[0m\u001b[0;34m:\u001b[0m\u001b[0;34m\u001b[0m\u001b[0m\n",
        "\u001b[0;31mValueError\u001b[0m: arrays must all be same length"
       ]
      }
     ],
     "prompt_number": 7
    },
    {
     "cell_type": "code",
     "collapsed": false,
     "input": [
      "###### Create and configure the PredictiveFilter\n",
      "pf=pypfilt.PyPredictiveFilter()\n",
      "numPointsToFilter=12\n",
      "cutoffFreq=1\n",
      "polyorder=1\n",
      "numPointsToFit = 2\n",
      "pf.configure(numPointsToFilter=numPointsToFilter)"
     ],
     "language": "python",
     "metadata": {},
     "outputs": []
    },
    {
     "cell_type": "markdown",
     "metadata": {},
     "source": []
    },
    {
     "cell_type": "code",
     "collapsed": false,
     "input": [
      "print pf.getData()\n",
      "pf.addData(100,290)\n",
      "print pf.getData()\n",
      "pf.addData([1,2,3],[5,3,2])\n",
      "print pf.getData()\n",
      "print pf.getTime()\n",
      "x=np."
     ],
     "language": "python",
     "metadata": {},
     "outputs": []
    },
    {
     "cell_type": "code",
     "collapsed": false,
     "input": [
      "pf.getData()\n"
     ],
     "language": "python",
     "metadata": {},
     "outputs": []
    },
    {
     "cell_type": "code",
     "collapsed": false,
     "input": [
      "type(np.ndarray(t_analog[1]))"
     ],
     "language": "python",
     "metadata": {},
     "outputs": []
    },
    {
     "cell_type": "code",
     "collapsed": false,
     "input": [
      "\n"
     ],
     "language": "python",
     "metadata": {},
     "outputs": []
    },
    {
     "cell_type": "code",
     "collapsed": false,
     "input": [],
     "language": "python",
     "metadata": {},
     "outputs": []
    }
   ],
   "metadata": {}
  }
 ]
}